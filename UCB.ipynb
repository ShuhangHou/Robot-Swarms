{
 "cells": [
  {
   "cell_type": "code",
   "execution_count": 14,
   "id": "1fa43f62",
   "metadata": {},
   "outputs": [
    {
     "name": "stdout",
     "output_type": "stream",
     "text": [
      "%pylab is deprecated, use %matplotlib inline and import the required libraries.\n",
      "Populating the interactive namespace from numpy and matplotlib\n",
      "[0.4306856549401443, 4.1246530463085165, 2.050728152829434, 0.9881782739579038, -1.5871829269738333, 2.8034211193581506, -1.2856800709447436, 8.083271662590406, 8.63562314618514, -2.3895771240956964]\n",
      "total_reward= 3316.1854790810885\n"
     ]
    }
   ],
   "source": [
    "%pylab inline\n",
    "K = 10\n",
    "np.random.seed(0)\n",
    "mu = np.random.uniform(-10,10,K)\n",
    "sigma = np.random.uniform(1,5,K)\n",
    "\n",
    "def fun(K):\n",
    "    return np.random.normal(mu[K],sigma[K])\n",
    "fun(0) \n",
    "t = 1000\n",
    "N = 10\n",
    "total_reward = 0\n",
    "Q = []\n",
    "update_time = []\n",
    "for i in range(K):\n",
    "    Q.append(0)\n",
    "    update_time.append(0)\n",
    "    \n",
    "C = 7\n",
    "for i in range(N):\n",
    "    k = i\n",
    "    Q[i] = fun(k)\n",
    "    result = fun(k)\n",
    "    update_time[k] += 1\n",
    "    total_reward += result\n",
    "np.random.seed(0)\n",
    "for i in range(1,t - N + 1):\n",
    "    # UCB action\n",
    "    k = argmax((Q+C*np.sqrt(np.log(i)/update_time)))               \n",
    "    result = fun(k)\n",
    "    update_time[k] += 1\n",
    "    total_reward += result\n",
    "    Q[k] += (result - Q[k])/(update_time[k])\n",
    "print(Q)\n",
    "    \n",
    "print('total_reward=',total_reward)"
   ]
  },
  {
   "cell_type": "code",
   "execution_count": null,
   "id": "1b8fd84e",
   "metadata": {},
   "outputs": [],
   "source": []
  }
 ],
 "metadata": {
  "kernelspec": {
   "display_name": "Python 3 (ipykernel)",
   "language": "python",
   "name": "python3"
  },
  "language_info": {
   "codemirror_mode": {
    "name": "ipython",
    "version": 3
   },
   "file_extension": ".py",
   "mimetype": "text/x-python",
   "name": "python",
   "nbconvert_exporter": "python",
   "pygments_lexer": "ipython3",
   "version": "3.9.6"
  }
 },
 "nbformat": 4,
 "nbformat_minor": 5
}
