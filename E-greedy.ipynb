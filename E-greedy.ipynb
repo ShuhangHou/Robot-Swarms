{
 "cells": [
  {
   "cell_type": "code",
   "execution_count": 19,
   "id": "efa85eb8",
   "metadata": {},
   "outputs": [
    {
     "name": "stdout",
     "output_type": "stream",
     "text": [
      "%pylab is deprecated, use %matplotlib inline and import the required libraries.\n",
      "Populating the interactive namespace from numpy and matplotlib\n",
      "[0.686202909958317, 6.92998070776704, 5.164735404649106, -2.8229948743886646, -2.4202609723197908, 2.665781716559173, -0.20667966247229153, 7.766629267116352, 7.0771518182119495, -1.6307186444351482]\n",
      "total_reward= 7665.802833165818\n"
     ]
    }
   ],
   "source": [
    "%pylab inline\n",
    "K = 10\n",
    "np.random.seed(0)\n",
    "mu = np.random.uniform(-10,10,K)\n",
    "sigma = np.random.uniform(1,5,K)\n",
    "\n",
    "def fun(K):\n",
    "    return np.random.normal(mu[K],sigma[K])\n",
    "fun(0) \n",
    "t = 1000\n",
    "N = 10\n",
    "total_reward = 0\n",
    "Q = []\n",
    "update_time = []\n",
    "for i in range(K):\n",
    "    Q.append(0)\n",
    "    update_time.append(0)\n",
    "    \n",
    "E = 0.01\n",
    "for i in range(N):\n",
    "    k = i\n",
    "    Q[i] = fun(k)\n",
    "    result = fun(k)\n",
    "    update_time[k] += 1\n",
    "    total_reward += result\n",
    "np.random.seed(0)\n",
    "for i in range(t - N):\n",
    "    r = random.random()\n",
    "    if (r >= E):\n",
    "        k = argmax(Q)\n",
    "    else:\n",
    "        k = np.random.choice(range(K))\n",
    "    result = fun(k)\n",
    "    update_time[k] += 1\n",
    "    total_reward += result\n",
    "    Q[k] += (result - Q[k])/(update_time[k])\n",
    "print(Q)\n",
    "    \n",
    "print('total_reward=',total_reward)"
   ]
  },
  {
   "cell_type": "code",
   "execution_count": null,
   "id": "8c3c743b",
   "metadata": {},
   "outputs": [],
   "source": []
  },
  {
   "cell_type": "code",
   "execution_count": null,
   "id": "6b4e2c79",
   "metadata": {},
   "outputs": [],
   "source": []
  },
  {
   "cell_type": "code",
   "execution_count": null,
   "id": "a8f43e1f",
   "metadata": {},
   "outputs": [],
   "source": []
  }
 ],
 "metadata": {
  "kernelspec": {
   "display_name": "Python 3 (ipykernel)",
   "language": "python",
   "name": "python3"
  },
  "language_info": {
   "codemirror_mode": {
    "name": "ipython",
    "version": 3
   },
   "file_extension": ".py",
   "mimetype": "text/x-python",
   "name": "python",
   "nbconvert_exporter": "python",
   "pygments_lexer": "ipython3",
   "version": "3.9.6"
  }
 },
 "nbformat": 4,
 "nbformat_minor": 5
}
